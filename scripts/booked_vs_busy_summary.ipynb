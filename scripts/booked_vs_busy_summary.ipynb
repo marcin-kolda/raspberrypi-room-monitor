{
 "cells": [
  {
   "cell_type": "code",
   "execution_count": null,
   "metadata": {
    "collapsed": true
   },
   "outputs": [],
   "source": [
    "%matplotlib inline\n",
    "import matplotlib.pyplot as plt\n",
    "import matplotlib as mpl\n",
    "from __future__ import unicode_literals"
   ]
  },
  {
   "cell_type": "code",
   "execution_count": null,
   "metadata": {
    "collapsed": false
   },
   "outputs": [],
   "source": [
    "%%javascript\n",
    "IPython.OutputArea.auto_scroll_threshold = 9999;"
   ]
  },
  {
   "cell_type": "code",
   "execution_count": null,
   "metadata": {
    "collapsed": true
   },
   "outputs": [],
   "source": [
    "import pandas as pd"
   ]
  },
  {
   "cell_type": "code",
   "execution_count": null,
   "metadata": {
    "collapsed": true
   },
   "outputs": [],
   "source": [
    "import numpy as np"
   ]
  },
  {
   "cell_type": "code",
   "execution_count": null,
   "metadata": {
    "collapsed": false
   },
   "outputs": [],
   "source": [
    "busy_vs_booked_dataframe = pd.read_csv('data/yellow_busy_vs_booked.csv', index_col=0, parse_dates = True)\n",
    "busy_vs_booked_dataframe.tail()"
   ]
  },
  {
   "cell_type": "code",
   "execution_count": null,
   "metadata": {
    "collapsed": false
   },
   "outputs": [],
   "source": [
    "events_data = busy_vs_booked_dataframe.groupby('id').agg({'busy' : 'mean', 'start_date_time' : 'min', 'organizer' : 'min', 'summary' : 'min', 'recurring_event_id' : 'min'})\n",
    "events_data = events_data[pd.notnull(events_data['organizer'])]\n",
    "pd.set_option('display.max_rows', 500)\n",
    "events_data.tail(200)"
   ]
  },
  {
   "cell_type": "code",
   "execution_count": null,
   "metadata": {
    "collapsed": false
   },
   "outputs": [],
   "source": [
    "non_private_events = events_data[pd.notnull(events_data['summary'])]\n",
    "non_private_events[non_private_events['summary'].str.lower().str.contains(\"groom\")]"
   ]
  },
  {
   "cell_type": "code",
   "execution_count": null,
   "metadata": {
    "collapsed": false
   },
   "outputs": [],
   "source": [
    "group = busy_vs_booked_dataframe.groupby(['booked', 'busy']).size()\n",
    "count = len(busy_vs_booked_dataframe.index)\n",
    "print group\n",
    "var_booked_busy = float(group[1][1])\n",
    "var_booked_free = float(group[1][0])\n",
    "var_notbooked_free = float(group[0][0])\n",
    "var_notbooked_busy = float(group[0][1])\n",
    "print var_booked_free/(var_booked_busy+var_booked_free)*100"
   ]
  },
  {
   "cell_type": "code",
   "execution_count": null,
   "metadata": {
    "collapsed": false
   },
   "outputs": [],
   "source": [
    "labels = 'Booked & busy', 'Booked & free', 'Not booked & free', 'Not booked & busy'\n",
    "sizes = [int(var_booked_busy/count*100), int(var_booked_free/count*100), \n",
    "         int(var_notbooked_free/count*100), int(var_notbooked_busy/count*100)]\n",
    "colors = ['yellowgreen', 'gold', 'lightskyblue', 'lightcoral']\n",
    "explode = (0, 0.1, 0, 0)\n",
    "\n",
    "fig = plt.figure(1, figsize=(10,8))\n",
    "ax = fig.add_subplot(111)\n",
    "ax.axis('equal')\n",
    "ax.pie(sizes, explode=explode, labels=labels, colors=colors,\n",
    "        autopct='%1.1f%%', startangle=90)\n",
    "plt.rcParams['font.size'] = 12.0\n",
    "plt.title('Booking vs usage based on 5 min time periods', fontsize=16)\n",
    "plt.savefig('5_booked_and_free.png')\n",
    "plt.show()\n"
   ]
  },
  {
   "cell_type": "code",
   "execution_count": null,
   "metadata": {
    "collapsed": false
   },
   "outputs": [],
   "source": [
    "events_data_diagram = events_data.copy()\n",
    "events_data_diagram['recurring_event_id'] = events_data_diagram['recurring_event_id'].astype(str)\n",
    "events_data_diagram['recurring'] = events_data_diagram.recurring_event_id != 'nan'\n",
    "events_data_diagram['busy_flag'] = events_data_diagram.busy >= 0.4\n",
    "\n",
    "print len(events_data_diagram)\n",
    "\n",
    "recurring_vs_busy = events_data_diagram.groupby(['recurring', 'busy_flag']).size()\n",
    "recurring_vs_busy_count = len(recurring_vs_busy.index)\n",
    "print recurring_vs_busy\n",
    "var_recurring_busy = float(recurring_vs_busy[1][1])\n",
    "var_recurring_free = float(recurring_vs_busy[1][0])\n",
    "var_single_free = float(recurring_vs_busy[0][0])\n",
    "var_single_busy = float(recurring_vs_busy[0][1])\n"
   ]
  },
  {
   "cell_type": "code",
   "execution_count": null,
   "metadata": {
    "collapsed": false
   },
   "outputs": [],
   "source": [
    "events_data_diagram[events_data_diagram.busy < 0.5]"
   ]
  },
  {
   "cell_type": "code",
   "execution_count": null,
   "metadata": {
    "collapsed": false
   },
   "outputs": [],
   "source": [
    "labels = 'Recurring & busy', 'Recurring & free', 'Non-recurring & free', 'Non-recurring & busy'\n",
    "sizes = [int(var_recurring_busy/recurring_vs_busy_count*100), int(var_recurring_free/recurring_vs_busy_count*100), \n",
    "         int(var_single_free/recurring_vs_busy_count*100), int(var_single_busy/recurring_vs_busy_count*100)]\n",
    "colors = ['yellowgreen', 'gold', 'lightskyblue', 'lightcoral']\n",
    "explode = (0, 0.0, 0.0, 0) \n",
    "\n",
    "fig = plt.figure(1, figsize=(10,7))\n",
    "ax = fig.add_subplot(111)\n",
    "ax.axis('equal')\n",
    "ax.pie(sizes, explode=explode, labels=labels, colors=colors,\n",
    "        autopct='%1.1f%%', startangle=90)\n",
    "plt.rcParams['font.size'] = 12.0\n",
    "plt.title('All meetings grouped by recurrence and real usage', fontsize=16)\n",
    "plt.savefig('6_recurring_vs_busy.png')\n",
    "plt.show()\n"
   ]
  },
  {
   "cell_type": "code",
   "execution_count": null,
   "metadata": {
    "collapsed": true
   },
   "outputs": [],
   "source": []
  }
 ],
 "metadata": {
  "kernelspec": {
   "display_name": "Python 2",
   "language": "python",
   "name": "python2"
  },
  "language_info": {
   "codemirror_mode": {
    "name": "ipython",
    "version": 2
   },
   "file_extension": ".py",
   "mimetype": "text/x-python",
   "name": "python",
   "nbconvert_exporter": "python",
   "pygments_lexer": "ipython2",
   "version": "2.7.9"
  }
 },
 "nbformat": 4,
 "nbformat_minor": 0
}

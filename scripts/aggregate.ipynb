{
 "cells": [
  {
   "cell_type": "code",
   "execution_count": null,
   "metadata": {
    "collapsed": false
   },
   "outputs": [],
   "source": [
    "%matplotlib inline\n",
    "import matplotlib.pyplot as plt\n",
    "from __future__ import unicode_literals"
   ]
  },
  {
   "cell_type": "code",
   "execution_count": null,
   "metadata": {
    "collapsed": false
   },
   "outputs": [],
   "source": [
    "%%javascript\n",
    "IPython.OutputArea.auto_scroll_threshold = 9999;"
   ]
  },
  {
   "cell_type": "code",
   "execution_count": null,
   "metadata": {
    "collapsed": false
   },
   "outputs": [],
   "source": [
    "import pandas as pd"
   ]
  },
  {
   "cell_type": "code",
   "execution_count": null,
   "metadata": {
    "collapsed": true
   },
   "outputs": [],
   "source": [
    "import numpy as np"
   ]
  },
  {
   "cell_type": "code",
   "execution_count": null,
   "metadata": {
    "collapsed": false
   },
   "outputs": [],
   "source": [
    "import datetime\n",
    "\n",
    "d1 = datetime.date(2016, 5, 30)\n",
    "d2 = datetime.date(2016, 7, 8)\n",
    "delta = d2 - d1\n",
    "dates = [(d1 + datetime.timedelta(days=i)).strftime('%Y-%m-%d') for i in range(delta.days + 1)]\n",
    "dates = filter(lambda x: datetime.datetime.strptime(x, '%Y-%m-%d').isoweekday() in range(1, 6), dates)\n",
    "\n",
    "time_from = '09:00:00'\n",
    "time_to = '18:00:00'\n",
    "\n",
    "print dates"
   ]
  },
  {
   "cell_type": "code",
   "execution_count": null,
   "metadata": {
    "collapsed": false
   },
   "outputs": [],
   "source": [
    "raw_data = pd.read_csv('data/sensor_output.csv', names=['timestamp', 'sound', 'motion'], index_col=0, parse_dates = True)\n",
    "raw_data.index = raw_data.index+pd.offsets.Hour(2)\n",
    "raw_data = raw_data[(raw_data['sound'] < 1000) & (raw_data['motion'] < 100)]\n",
    "raw_data.tail()"
   ]
  },
  {
   "cell_type": "code",
   "execution_count": null,
   "metadata": {
    "collapsed": false
   },
   "outputs": [],
   "source": [
    "calendar_data = pd.read_csv('data/yellow_merged_events.csv', index_col=0, parse_dates = True)\n",
    "calendar_data = calendar_data[calendar_data.status == 'confirmed']\n",
    "calendar_data.tail()"
   ]
  },
  {
   "cell_type": "code",
   "execution_count": null,
   "metadata": {
    "collapsed": false
   },
   "outputs": [],
   "source": [
    "aggregated_data = raw_data.groupby(pd.TimeGrouper('5Min')).agg({'sound' : 'std', 'motion' : 'mean'})\n",
    "aggregated_data['sound'] = aggregated_data['sound'] - aggregated_data['sound'].mean()\n",
    "aggregated_data.sound[aggregated_data.sound < 0] = 0\n",
    "\n",
    "aggregated_data.to_csv('data/sensor_aggregated_data.csv', sep=b',', encoding='utf-8')\n",
    "aggregated_data.tail()"
   ]
  },
  {
   "cell_type": "code",
   "execution_count": null,
   "metadata": {
    "collapsed": false
   },
   "outputs": [],
   "source": [
    "font = {'size': 16}\n",
    "merged_dataframes = pd.DataFrame()\n",
    "\n",
    "for selected_date in dates:\n",
    "    datetime_from = selected_date + ' ' + time_from \n",
    "    datetime_to = selected_date + ' ' + time_to\n",
    "    single_day_data = aggregated_data.loc[(aggregated_data.index >= datetime_from) & (aggregated_data.index <= datetime_to),:].copy()\n",
    "    single_day_data.loc[:,('sound')] = single_day_data.loc[:,('sound')] / single_day_data['sound'].max()\n",
    "    single_day_data = single_day_data.fillna(0.7)\n",
    "    single_day_data.sound[single_day_data.sound < 0.3] = 0\n",
    "    single_day_data.motion[single_day_data.motion < 0.1] = 0\n",
    "    merged_dataframes = merged_dataframes.append(single_day_data)\n",
    "    \n",
    "    plot = single_day_data.plot(figsize=(16,8))\n",
    "    plt.ylabel('correlated sensor data')\n",
    "    plt.title('correlated data for ' + selected_date)\n",
    "    \n",
    "    single_day_calendar_data = calendar_data[(calendar_data.index >= datetime_from) & (calendar_data.index <= datetime_to)]\n",
    "    for index, row in single_day_calendar_data.iterrows():\n",
    "        plot.axvspan(index, row['end_date_time'], facecolor='y', alpha=0.2)\n",
    "        text = unicode(str(row['summary']), 'utf-8') + ' - ' + row['status']\n",
    "        plot.text(index, 0.9, text, rotation=90, fontdict=font)"
   ]
  },
  {
   "cell_type": "code",
   "execution_count": null,
   "metadata": {
    "collapsed": false
   },
   "outputs": [],
   "source": [
    "merged_dataframes.tail()"
   ]
  },
  {
   "cell_type": "code",
   "execution_count": null,
   "metadata": {
    "collapsed": false
   },
   "outputs": [],
   "source": [
    "busy_vs_booked_dataframe = merged_dataframes.copy()\n",
    "busy_vs_booked_dataframe['busy'] = ((busy_vs_booked_dataframe.sound > 0) | (busy_vs_booked_dataframe.motion > 0)).astype(int)\n",
    "busy_vs_booked_dataframe['booked'] = 0\n",
    "busy_vs_booked_dataframe['start_date_time'] = busy_vs_booked_dataframe.index\n",
    "\n",
    "for index, row in calendar_data.iterrows():\n",
    "    busy_vs_booked_dataframe.loc[(busy_vs_booked_dataframe.index >= index) & (busy_vs_booked_dataframe.index < row.end_date_time),'booked'] = 1\n",
    "    busy_vs_booked_dataframe.loc[(busy_vs_booked_dataframe.index >= index) & (busy_vs_booked_dataframe.index < row.end_date_time),'summary'] = row.summary\n",
    "    busy_vs_booked_dataframe.loc[(busy_vs_booked_dataframe.index >= index) & (busy_vs_booked_dataframe.index < row.end_date_time),'organizer'] = row.organizer\n",
    "    busy_vs_booked_dataframe.loc[(busy_vs_booked_dataframe.index >= index) & (busy_vs_booked_dataframe.index < row.end_date_time),'recurring_event_id'] = row.recurring_event_id\n",
    "    busy_vs_booked_dataframe.loc[(busy_vs_booked_dataframe.index >= index) & (busy_vs_booked_dataframe.index < row.end_date_time),'id'] = row.id\n",
    "\n",
    "busy_vs_booked_dataframe.to_csv('data/yellow_busy_vs_booked.csv', sep=b',', encoding='utf-8')\n",
    "busy_vs_booked_dataframe.tail()"
   ]
  },
  {
   "cell_type": "code",
   "execution_count": null,
   "metadata": {
    "collapsed": true
   },
   "outputs": [],
   "source": [
    ""
   ]
  }
 ],
 "metadata": {
  "kernelspec": {
   "display_name": "Python 2",
   "language": "python",
   "name": "python2"
  },
  "language_info": {
   "codemirror_mode": {
    "name": "ipython",
    "version": 2.0
   },
   "file_extension": ".py",
   "mimetype": "text/x-python",
   "name": "python",
   "nbconvert_exporter": "python",
   "pygments_lexer": "ipython2",
   "version": "2.7.9"
  }
 },
 "nbformat": 4,
 "nbformat_minor": 0
}
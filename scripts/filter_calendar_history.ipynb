{
 "cells": [
  {
   "cell_type": "code",
   "execution_count": null,
   "metadata": {
    "collapsed": true
   },
   "outputs": [],
   "source": [
    "%matplotlib inline\n",
    "import matplotlib.pyplot as plt\n",
    "import matplotlib as mpl\n",
    "from __future__ import unicode_literals"
   ]
  },
  {
   "cell_type": "code",
   "execution_count": null,
   "metadata": {
    "collapsed": false
   },
   "outputs": [],
   "source": [
    "%%javascript\n",
    "IPython.OutputArea.auto_scroll_threshold = 9999;"
   ]
  },
  {
   "cell_type": "code",
   "execution_count": null,
   "metadata": {
    "collapsed": true
   },
   "outputs": [],
   "source": [
    "import pandas as pd"
   ]
  },
  {
   "cell_type": "code",
   "execution_count": null,
   "metadata": {
    "collapsed": true
   },
   "outputs": [],
   "source": [
    "import numpy as np\n",
    "import datetime"
   ]
  },
  {
   "cell_type": "code",
   "execution_count": null,
   "metadata": {
    "collapsed": false
   },
   "outputs": [],
   "source": [
    "calendar_history = pd.read_csv('data/calendar_data.csv', parse_dates = True)\n",
    "calendar_history['start_date_time'] = pd.to_datetime(calendar_history['start_date_time'])\n",
    "calendar_history['end_date_time'] = pd.to_datetime(calendar_history['end_date_time'])\n",
    "calendar_history['created'] = pd.to_datetime(calendar_history['created'])\n",
    "calendar_history['updated'] = pd.to_datetime(calendar_history['updated'])\n",
    "calendar_history['recurring_event_id'] = calendar_history['recurring_event_id'].astype(str)\n",
    "\n",
    "data_export_day = datetime.date(2016, 7, 13)\n",
    "export_day = data_export_day.strftime('%Y-%m-%d') + ' 00:00:00'\n",
    "\n",
    "print \"All events: %s\" % len(calendar_history)\n",
    "calendar_history.tail()"
   ]
  },
  {
   "cell_type": "code",
   "execution_count": null,
   "metadata": {
    "collapsed": false
   },
   "outputs": [],
   "source": [
    "# remove weekends\n",
    "calendar_history = calendar_history[calendar_history.start_date_time.dt.dayofweek < 5]\n",
    "# remove tentative meetings\n",
    "calendar_history = calendar_history[calendar_history.status != 'tentative']\n",
    "# remove old cancelled meetings\n",
    "calendar_data_filtered = calendar_history.drop(calendar_history[(calendar_history.status=='cancelled') \n",
    "                                                          & (calendar_history.updated < '2016-01-01 00:00:00')].index)\n",
    "print \"After filtering old cancelled items: %s\" % len(calendar_data_filtered)\n",
    "calendar_data_filtered = calendar_data_filtered.reset_index()\n",
    "# calendar_data_filtered = calendar_data_filtered.sort_values(by=['event_id', 'conf'], ascending=True)\n",
    "# calendar_data_filtered.to_csv('data/calendar_history_sorted.csv', sep=b',', encoding='utf-8', index=False)\n",
    "\n",
    "def filter_cancelled_duplicates(group):\n",
    "    if len(group[group.status == 'cancelled']) > 0 and len(group[group.status == 'confirmed']) > 0:\n",
    "        return group[group.status == 'confirmed']\n",
    "    if len(group[group.status == 'cancelled']) > 1:\n",
    "        return group[group.status == 'cancelled'].iloc[[0]]\n",
    "    return group\n",
    "\n",
    "calendar_data_filtered = calendar_data_filtered.groupby(calendar_data_filtered.event_id, as_index=False).apply(filter_cancelled_duplicates)\n",
    "# calendar_data_filtered = calendar_data_filtered.sort_values(by=['event_id', 'conf'], ascending=True)\n",
    "print \"After filtering event_id duplicates: %s\" % len(calendar_data_filtered)\n",
    "\n",
    "calendar_data_filtered.to_csv('data/calendar_data_filtered.csv', sep=b',', encoding='utf-8', index=False)\n",
    "\n",
    "calendar_history_filtered = calendar_data_filtered[calendar_data_filtered.start_date_time < export_day]\n",
    "calendar_history_filtered.to_csv('data/calendar_history_filtered.csv', sep=b',', encoding='utf-8', index=False)\n",
    "calendar_history_filtered.tail()"
   ]
  },
  {
   "cell_type": "code",
   "execution_count": null,
   "metadata": {
    "collapsed": false,
    "scrolled": true
   },
   "outputs": [],
   "source": [
    "data_with_duration = calendar_data_filtered.copy()\n",
    "\n",
    "def recurring_duration(row):\n",
    "    if not row.recurring_event_id == 'nan':\n",
    "        return row.end_date_time - row.start_date_time\n",
    "    else:\n",
    "        return pd.Timedelta(days=0)\n",
    "\n",
    "def non_recurring_duration(row):\n",
    "    if row.recurring_event_id == 'nan':\n",
    "        return row.end_date_time - row.start_date_time\n",
    "    else:\n",
    "        return pd.Timedelta(days=0)\n",
    "\n",
    "    \n",
    "data_with_duration['recurring_events_duration'] = data_with_duration.apply(recurring_duration, axis=1)\n",
    "data_with_duration['non_recurring_events_duration'] = data_with_duration.apply(non_recurring_duration, axis=1)\n",
    "data_with_duration['total_duration'] = data_with_duration.end_date_time - data_with_duration.start_date_time\n",
    "\n",
    "data_with_duration.tail()"
   ]
  },
  {
   "cell_type": "code",
   "execution_count": null,
   "metadata": {
    "collapsed": false
   },
   "outputs": [],
   "source": [
    "nearby_days = data_with_duration[data_with_duration.status == 'confirmed']\n",
    "past_date = (data_export_day - datetime.timedelta(days=30)).strftime('%Y-%m-%d') + ' 00:00:00'\n",
    "nearby_days = nearby_days[nearby_days.start_date_time > past_date]\n",
    "# nearby_days = nearby_days[nearby_days.conf == 'Yellow']\n",
    "\n",
    "nearby_agg_days = nearby_days.groupby(nearby_days['start_date_time'].dt.date).agg({'recurring_events_duration' : 'sum', 'non_recurring_events_duration' : 'sum'})\n",
    "\n",
    "number_of_conf_rooms = len(nearby_days.conf.unique())\n",
    "print \"number_of_conf_rooms=%s\" % number_of_conf_rooms\n",
    "\n",
    "nearby_agg_days['non_recurring_events_duration'] = nearby_agg_days['non_recurring_events_duration'] / number_of_conf_rooms\n",
    "nearby_agg_days['non_recurring_events_duration_in_hours'] = nearby_agg_days['non_recurring_events_duration'].dt.days * 24 + nearby_agg_days['non_recurring_events_duration'].dt.seconds / 3600\n",
    "nearby_agg_days['recurring_events_duration'] = nearby_agg_days['recurring_events_duration'] / number_of_conf_rooms\n",
    "nearby_agg_days['recurring_events_duration_in_hours'] = nearby_agg_days['recurring_events_duration'].dt.days * 24 + nearby_agg_days['recurring_events_duration'].dt.seconds / 3600\n",
    "cols = nearby_agg_days.columns.tolist()\n",
    "cols = cols[-1:] + cols[:-1]\n",
    "nearby_agg_days = nearby_agg_days[cols]\n",
    "nearby_agg_days.tail(30)"
   ]
  },
  {
   "cell_type": "code",
   "execution_count": null,
   "metadata": {
    "collapsed": false
   },
   "outputs": [],
   "source": [
    "plt.figure();\n",
    "\n",
    "nearby_agg_days.plot.bar(stacked=True, figsize=(20,9), fontsize=12); \n",
    "plt.ylabel('Average usage per day [h]', fontsize=14)\n",
    "plt.xlabel('Date', fontsize=14)\n",
    "plt.title('Daily conference room usage per day', fontsize=16)\n",
    "plt.gcf().subplots_adjust(bottom=0.20)\n",
    "plt.gca().yaxis.grid(True)\n",
    "plt.gca().set_yticks(np.arange(0, 9, 1))\n",
    "\n",
    "#http://stackoverflow.com/questions/20394091/pandas-matplotlib-make-one-color-in-barplot-stand-out\n",
    "plt.savefig('2_daily_usage_per_day.png')"
   ]
  },
  {
   "cell_type": "code",
   "execution_count": null,
   "metadata": {
    "collapsed": true
   },
   "outputs": [],
   "source": []
  },
  {
   "cell_type": "code",
   "execution_count": null,
   "metadata": {
    "collapsed": false
   },
   "outputs": [],
   "source": [
    "confirmed_events = data_with_duration[data_with_duration.status == 'confirmed']\n",
    "confirmed_events = data_with_duration[data_with_duration.start_date_time < export_day]\n",
    "conf_duration = confirmed_events.groupby('conf').agg({'recurring_events_duration' : 'sum', 'non_recurring_events_duration' : 'sum', 'total_duration' : 'sum', 'floor' : 'min'})\n",
    "\n",
    "number_of_weekdays = len(confirmed_events[\"start_date_time\"].dt.normalize().unique())\n",
    "print \"number_of_weekdays=%s\" % number_of_weekdays\n",
    "\n",
    "conf_duration['non_recurring_events_duration'] = conf_duration['non_recurring_events_duration'] / number_of_weekdays\n",
    "conf_duration['non_recurring_events_duration_in_hours'] = conf_duration['non_recurring_events_duration'].dt.days * 24 + conf_duration['non_recurring_events_duration'].dt.seconds / 3600\n",
    "conf_duration['recurring_events_duration'] = conf_duration['recurring_events_duration'] / number_of_weekdays\n",
    "conf_duration['recurring_events_duration_in_hours'] = conf_duration['recurring_events_duration'].dt.days * 24 + conf_duration['recurring_events_duration'].dt.seconds / 3600\n",
    "\n",
    "conf_duration = conf_duration.sort_values(by='total_duration', ascending=True)\n",
    "conf_duration.index = conf_duration.floor + \" \" + conf_duration.index\n",
    "cols = conf_duration.columns.tolist()\n",
    "cols = cols[-1:] + cols[:-1]\n",
    "conf_duration = conf_duration[cols]\n",
    "conf_duration.tail()"
   ]
  },
  {
   "cell_type": "code",
   "execution_count": null,
   "metadata": {
    "collapsed": false
   },
   "outputs": [],
   "source": [
    "plt.figure();\n",
    "\n",
    "conf_duration.plot.bar(stacked=True, figsize=(20,9), fontsize=12); \n",
    "plt.ylabel('Average usage per day [h]', fontsize=14)\n",
    "plt.xlabel('Conference room', fontsize=14)\n",
    "plt.title('Daily usage from last 90 days grouped by conference room', fontsize=16)\n",
    "plt.gcf().subplots_adjust(bottom=0.25)\n",
    "plt.gca().yaxis.grid(True)\n",
    "plt.gca().set_yticks(np.arange(0, 11, 1))\n",
    "plt.savefig('1_daily_usage_per_room.png')"
   ]
  },
  {
   "cell_type": "code",
   "execution_count": null,
   "metadata": {
    "collapsed": false
   },
   "outputs": [],
   "source": [
    "cancelation_period = calendar_history_filtered.copy()\n",
    "cancelation_period.drop('organizer_name', axis=1, inplace=True)\n",
    "cancelation_period.drop('organizer', axis=1, inplace=True)\n",
    "cancelation_period.drop('creator', axis=1, inplace=True)\n",
    "cancelation_period.drop('html_link', axis=1, inplace=True)\n",
    "cancelation_period.drop('index', axis=1, inplace=True)\n",
    "cancelation_period.drop('floor', axis=1, inplace=True)\n",
    "cancelation_period.drop('recurring_event_id', axis=1, inplace=True)\n",
    "# ignore private events\n",
    "cancelation_period = cancelation_period[cancelation_period.created.notnull()]\n",
    "# select cancelled events\n",
    "cancelation_period = cancelation_period[cancelation_period.status == 'cancelled']\n",
    "cancelation_period['cancelation_delay'] = cancelation_period.start_date_time - cancelation_period.updated\n",
    "cancelation_period['cancelation_delay_in_h'] = cancelation_period['cancelation_delay'].dt.days * 24 + cancelation_period['cancelation_delay'].dt.seconds / 3600\n",
    "\n",
    "# filter events cancelled in future\n",
    "cancelation_period = cancelation_period[cancelation_period.cancelation_delay_in_h >= 0 ]\n",
    "# filter events cancelled at least two week in advance\n",
    "cancelation_period = cancelation_period[cancelation_period.cancelation_delay_in_h < 24 * 14 ]\n",
    "\n",
    "cancelation_period['cancelation_delay_in_h'] = cancelation_period['cancelation_delay_in_h'].astype(int)\n",
    "cancelation_period['cancelation_delay_in_h'] = -cancelation_period['cancelation_delay_in_h']\n",
    "\n",
    "cancelation_cumulative_flow = cancelation_period.groupby(['cancelation_delay_in_h']).agg({'cancelation_delay_in_h': 'count'})\n",
    "\n",
    "cancelation_cumulative_flow = cancelation_cumulative_flow.reindex(np.arange(cancelation_cumulative_flow.index.min(), cancelation_cumulative_flow.index.max() + 1)).fillna(0)\n",
    "cancelation_cumulative_flow['cumulative_sum'] = cancelation_cumulative_flow.cancelation_delay_in_h.cumsum()\n",
    "cancelation_cumulative_flow['cancelation_cumulative_percentage'] = 100*cancelation_cumulative_flow.cumulative_sum/cancelation_cumulative_flow.cancelation_delay_in_h.sum()\n",
    "\n",
    "cancelation_cumulative_flow\n"
   ]
  },
  {
   "cell_type": "code",
   "execution_count": null,
   "metadata": {
    "collapsed": false
   },
   "outputs": [],
   "source": [
    "plt.figure();\n",
    "\n",
    "cancelation_cumulative_diagram = cancelation_cumulative_flow.copy()\n",
    "cancelation_cumulative_diagram.drop('cancelation_delay_in_h', axis=1, inplace=True)\n",
    "cancelation_cumulative_diagram.drop('cumulative_sum', axis=1, inplace=True)\n",
    "cancelation_cumulative_diagram.plot(figsize=(15,7), fontsize=10)\n",
    "\n",
    "plt.legend(loc='best')    \n",
    "plt.show()"
   ]
  },
  {
   "cell_type": "code",
   "execution_count": null,
   "metadata": {
    "collapsed": false
   },
   "outputs": [],
   "source": [
    "creation_period = calendar_history_filtered.copy()\n",
    "creation_period.drop('organizer_name', axis=1, inplace=True)\n",
    "creation_period.drop('creator', axis=1, inplace=True)\n",
    "creation_period.drop('html_link', axis=1, inplace=True)\n",
    "creation_period.drop('index', axis=1, inplace=True)\n",
    "creation_period.drop('floor', axis=1, inplace=True)\n",
    "# ignore private events\n",
    "creation_period = creation_period[creation_period.created.notnull()]\n",
    "# select confirmed events\n",
    "creation_period = creation_period[creation_period.status == 'confirmed']\n",
    "# ignore recurring events\n",
    "creation_period = creation_period[creation_period.recurring_event_id == 'nan']\n",
    "\n",
    "creation_period['creation_period'] = creation_period.start_date_time - creation_period.created\n",
    "creation_period['creation_period_in_h'] = creation_period['creation_period'].dt.days * 24 + creation_period['creation_period'].dt.seconds / 3600\n",
    "\n",
    "# ignore malformed events\n",
    "creation_period = creation_period[creation_period.creation_period_in_h >= 0]\n",
    "\n",
    "# filter events created at least two week in advance \n",
    "creation_period = creation_period[creation_period.creation_period_in_h < 24 * 14]\n",
    "\n",
    "creation_period['creation_period_in_h'] = creation_period['creation_period_in_h'].astype(int)\n",
    "creation_period['creation_period_in_h'] = -creation_period['creation_period_in_h']\n",
    "\n",
    "creation_cumulative_flow = creation_period.groupby(['creation_period_in_h']).agg({'creation_period_in_h': 'count'})\n",
    "creation_cumulative_flow = creation_cumulative_flow.reindex(np.arange(creation_cumulative_flow.index.min(), creation_cumulative_flow.index.max() + 1)).fillna(0)\n",
    "\n",
    "creation_cumulative_flow['cumulative_sum'] = creation_cumulative_flow.creation_period_in_h.cumsum()\n",
    "creation_cumulative_flow['creation_cumulative_percentage'] = 100*creation_cumulative_flow.cumulative_sum/creation_cumulative_flow.creation_period_in_h.sum()\n",
    "creation_cumulative_flow"
   ]
  },
  {
   "cell_type": "code",
   "execution_count": null,
   "metadata": {
    "collapsed": false
   },
   "outputs": [],
   "source": [
    "plt.figure();\n",
    "\n",
    "creation_cumulative_flow_diagram = creation_cumulative_flow.copy()\n",
    "creation_cumulative_flow_diagram.drop('creation_period_in_h', axis=1, inplace=True)\n",
    "creation_cumulative_flow_diagram.drop('cumulative_sum', axis=1, inplace=True)\n",
    "creation_cumulative_flow_diagram.plot(figsize=(15,7), fontsize=10)\n",
    "\n",
    "plt.legend(loc='best')    \n",
    "plt.show()"
   ]
  },
  {
   "cell_type": "code",
   "execution_count": null,
   "metadata": {
    "collapsed": false
   },
   "outputs": [],
   "source": [
    "merged_period_df = pd.concat([creation_cumulative_flow_diagram, cancelation_cumulative_diagram], axis=1)\n",
    "\n",
    "plt.figure();\n",
    "\n",
    "merged_period_df.plot(figsize=(20,9), fontsize=12)\n",
    "\n",
    "plt.gca().set_yticks(np.arange(0, 101, 10))\n",
    "plt.xscale('symlog')\n",
    "xticks = [-1, -2, -4, -8, -16, -24, -36, -48, -72, -96, -120, -144, -168, -192, -216, -240, -264, -288, -312]\n",
    "xticks_labels = [-1, -2, -4, -8, -16, -24, -36, -48, -72, -96, -120, \"\", -168, \"\", -216, \"\", \"\", -288, \"\"]\n",
    "plt.xticks(xticks, xticks_labels)\n",
    "plt.ylabel('Percentage of all meetings of given type [%]', fontsize=14)\n",
    "plt.xlabel('Period before the meeting [h]', fontsize=14)\n",
    "plt.title('Cumulative flow diagram of meeting creation/cancellation', fontsize=16)\n",
    "plt.gcf().subplots_adjust(bottom=0.1)\n",
    "plt.legend(loc='lower right')\n",
    "plt.grid(True)\n",
    "plt.savefig('3_cancelation_duration.png')\n",
    "plt.show()\n"
   ]
  },
  {
   "cell_type": "code",
   "execution_count": null,
   "metadata": {
    "collapsed": false
   },
   "outputs": [],
   "source": [
    "status_vs_recurrence = calendar_history_filtered.copy()\n",
    "status_vs_recurrence['recurring'] = status_vs_recurrence.recurring_event_id != 'nan'\n",
    "status_vs_recurrence_grouped = status_vs_recurrence.groupby(['recurring', 'status']).size()\n",
    "\n",
    "count = len(status_vs_recurrence.index)\n",
    "\n",
    "var_nonrecurring_cancelled = float(status_vs_recurrence_grouped[0][0])\n",
    "var_nonrecurring_confirmed = float(status_vs_recurrence_grouped[0][1])\n",
    "var_recurring_cancelled = float(status_vs_recurrence_grouped[1][0])\n",
    "var_recurring_confirmed = float(status_vs_recurrence_grouped[1][1])\n",
    "\n",
    "status_vs_recurrence_grouped"
   ]
  },
  {
   "cell_type": "code",
   "execution_count": null,
   "metadata": {
    "collapsed": false
   },
   "outputs": [],
   "source": [
    "labels = 'Non recurring & cancelled', 'Non recurring & confirmed', 'Recurring & cancelled', 'Recurring & confirmed'\n",
    "sizes = [int(var_nonrecurring_cancelled/count*100), int(var_nonrecurring_confirmed/count*100), \n",
    "         int(var_recurring_cancelled/count*100), int(var_recurring_confirmed/count*100)]\n",
    "colors = ['yellowgreen', 'gold', 'lightskyblue', 'lightcoral']\n",
    "\n",
    "fig = plt.figure(1, figsize=(10,7))\n",
    "ax = fig.add_subplot(111)\n",
    "ax.axis('equal')\n",
    "ax.pie(sizes, labels=labels, colors=colors,\n",
    "        autopct='%1.1f%%', startangle=90)\n",
    "plt.rcParams['font.size'] = 12.0\n",
    "plt.savefig('4_status_vs_recurrence.png')\n",
    "plt.show()\n"
   ]
  },
  {
   "cell_type": "code",
   "execution_count": null,
   "metadata": {
    "collapsed": false
   },
   "outputs": [],
   "source": [
    "valid_grouped_events = pd.read_csv('data/calendar_grouped_confirmed.csv', parse_dates = True)\n",
    "valid_grouped_events['event_id'] = valid_grouped_events['event_id'].astype(str)\n",
    "valid_grouped_events['recurring_event_id'] = valid_grouped_events['recurring_event_id'].astype(str)\n",
    "valid_ids = pd.concat([valid_grouped_events['recurring_event_id'].dropna(), valid_grouped_events['event_id'].dropna()])"
   ]
  },
  {
   "cell_type": "code",
   "execution_count": null,
   "metadata": {
    "collapsed": false
   },
   "outputs": [],
   "source": [
    "recurring_events = calendar_history_filtered.copy()[calendar_history_filtered.recurring_event_id != 'nan']\n",
    "valid_recurring_events = recurring_events[recurring_events['recurring_event_id'].isin(valid_ids)]\n",
    "\n",
    "print \"%s union %s = %s\" % (len(recurring_events), len(valid_ids), len(valid_recurring_events))\n",
    "valid_recurring_events"
   ]
  },
  {
   "cell_type": "code",
   "execution_count": null,
   "metadata": {
    "collapsed": false
   },
   "outputs": [],
   "source": [
    "grouped = valid_recurring_events.groupby(['recurring_event_id'])\n",
    "\n",
    "often_cancelled_event_id_list = []\n",
    "for name, group in grouped:\n",
    "    if len(group[group.status == 'cancelled']) > len(group[group.status == 'confirmed']):\n",
    "        often_cancelled_event_id_list.append(name)\n"
   ]
  },
  {
   "cell_type": "code",
   "execution_count": null,
   "metadata": {
    "collapsed": false
   },
   "outputs": [],
   "source": [
    "often_cancelled_events = valid_recurring_events[valid_recurring_events['recurring_event_id'].isin(often_cancelled_event_id_list)].copy()\n",
    "often_cancelled_events.drop('index', axis=1, inplace=True)\n",
    "often_cancelled_events['cancelation_delay'] = often_cancelled_events.start_date_time - often_cancelled_events.updated\n",
    "\n",
    "often_cancelled_events.to_csv('data/often_cancelled_events.csv', sep=b',', encoding='utf-8', index=False)"
   ]
  },
  {
   "cell_type": "code",
   "execution_count": null,
   "metadata": {
    "collapsed": true
   },
   "outputs": [],
   "source": []
  }
 ],
 "metadata": {
  "kernelspec": {
   "display_name": "Python 2",
   "language": "python",
   "name": "python2"
  },
  "language_info": {
   "codemirror_mode": {
    "name": "ipython",
    "version": 2
   },
   "file_extension": ".py",
   "mimetype": "text/x-python",
   "name": "python",
   "nbconvert_exporter": "python",
   "pygments_lexer": "ipython2",
   "version": "2.7.9"
  }
 },
 "nbformat": 4,
 "nbformat_minor": 0
}
